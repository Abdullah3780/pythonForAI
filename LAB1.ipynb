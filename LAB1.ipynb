{
 "cells": [
  {
   "cell_type": "markdown",
   "metadata": {},
   "source": [
    "NAME: ABDULLAH RAFIQ\n",
    "REG NO.: 19-NTU-CS-1037\n",
    "LAB PLAN NO.: 1"
   ]
  },
  {
   "cell_type": "markdown",
   "metadata": {},
   "source": [
    "TASK 1"
   ]
  },
  {
   "cell_type": "code",
   "execution_count": 1,
   "metadata": {},
   "outputs": [
    {
     "name": "stdout",
     "output_type": "stream",
     "text": [
      "101\n"
     ]
    }
   ],
   "source": [
    "a=eval(input(\"Enter the value of a\"))\n",
    "x=eval(input(\"Enter the value of x\"))\n",
    "y= a*x**3 +a*x**+x-7\n",
    "print(y)"
   ]
  },
  {
   "cell_type": "markdown",
   "metadata": {},
   "source": [
    "# Task 2"
   ]
  },
  {
   "cell_type": "code",
   "execution_count": 75,
   "metadata": {},
   "outputs": [
    {
     "name": "stdout",
     "output_type": "stream",
     "text": [
      "Enter the value in miles1\n",
      "1.6095284081764043\n"
     ]
    }
   ],
   "source": [
    "miles=float(input(\"Enter the value in miles\"))\n",
    "kilometers=miles/0.6213\n",
    "print(kilometers)"
   ]
  },
  {
   "cell_type": "markdown",
   "metadata": {},
   "source": [
    "# Task 3"
   ]
  },
  {
   "cell_type": "code",
   "execution_count": 65,
   "metadata": {},
   "outputs": [
    {
     "name": "stdout",
     "output_type": "stream",
     "text": [
      "Enter the value in PKR100\n",
      "Australian Dollar | China Yuan |  Euro  | Qatari Riyal | Saudi Riyal | U.A.E Dirham | U.K Pound Sterling | US Dollar\n",
      "0.9747            | 4.5455     | 0.5947 | 2.3697       | 2.442       | 2.3838       | 0.5047             | 0.6494\n"
     ]
    }
   ],
   "source": [
    "pkrs=eval(input(\"Enter the value in PKR\"))\n",
    "print(\"Australian Dollar | China Yuan |  Euro  | Qatari Riyal | Saudi Riyal | U.A.E Dirham | U.K Pound Sterling | US Dollar\")\n",
    "print(round((pkrs/102.6),4),\"           |\",round((pkrs/22),4),\"    |\",round((pkrs/168.15),4),\"|\",round((pkrs/42.2),4),\"      |\",round((pkrs/40.95),4),\"      |\",round((pkrs/41.95),4),\"      |\",round((pkrs/198.15),4),\"            |\",round((pkrs/154),4))"
   ]
  },
  {
   "cell_type": "markdown",
   "metadata": {},
   "source": [
    "# Task 9"
   ]
  },
  {
   "cell_type": "code",
   "execution_count": 72,
   "metadata": {},
   "outputs": [
    {
     "name": "stdout",
     "output_type": "stream",
     "text": [
      "Enter the first Num : 4\n",
      "Enter the second Num : 2\n",
      "4  is not the multiple of  2\n"
     ]
    }
   ],
   "source": [
    "num1=int(input(\"Enter the first Num : \"))\n",
    "num2=int(input(\"Enter the second Num : \"))\n",
    "if(num2%num1==0):\n",
    "    print(num1,\" is the multiple of \",num2)\n",
    "else:\n",
    "     print(num1,\" is not the multiple of \",num2)\n",
    "    "
   ]
  },
  {
   "cell_type": "markdown",
   "metadata": {},
   "source": [
    "# Task 10"
   ]
  },
  {
   "cell_type": "code",
   "execution_count": 99,
   "metadata": {},
   "outputs": [
    {
     "name": "stdout",
     "output_type": "stream",
     "text": [
      "Enter the value no. 3\n",
      "Enter the value no. 4\n",
      "Enter the value no. 2\n",
      "Enter the value no. 6\n",
      "Enter the value no. 1\n",
      "6\n"
     ]
    }
   ],
   "source": [
    "# i=0\n",
    "import numpy as np\n",
    "arr=[0,0,0,0,0]\n",
    "\n",
    "\n",
    "for i in range(5):\n",
    "    arr[i] = int(input(\"Enter the value no. \" ))\n",
    "\n",
    "mini = np.max(arr)\n",
    "print(mini)"
   ]
  },
  {
   "cell_type": "markdown",
   "metadata": {},
   "source": [
    "TASK 11"
   ]
  },
  {
   "cell_type": "code",
   "execution_count": 2,
   "metadata": {},
   "outputs": [
    {
     "name": "stdout",
     "output_type": "stream",
     "text": [
      "Normal\n"
     ]
    }
   ],
   "source": [
    "height=eval(input('Enter the height in meters : '))\n",
    "weight=eval(input('Enter the weight in kgs'))\n",
    "bmi=weight/(height**2)\n",
    "if(bmi<18.5):\n",
    "    print(\"Underweight\")\n",
    "elif(bmi>18.5 and bmi<24.9):\n",
    "    print(\"Normal\")\n",
    "elif(bmi>25.0 and bmi<29.9):\n",
    "    print(\"Overweight\")\n",
    "elif(bmi>30.0):\n",
    "    print(\"Very Overweight\")"
   ]
  },
  {
   "cell_type": "markdown",
   "metadata": {},
   "source": [
    "TASK 12"
   ]
  },
  {
   "cell_type": "code",
   "execution_count": null,
   "metadata": {},
   "outputs": [],
   "source": [
    "# Write two functions add and multiply with five arguments and default values. These functions display result\n",
    "def multiply(num1=1, num2=2, num3=1, num4=2, num5=5): {\n",
    "    print(num1*num2*num3*num4*num5)\n",
    "}\n",
    "\n",
    "\n",
    "def add(num1=1, num2=2, num3=1, num4=2, num5=5): {\n",
    "    print(num1+num2+num3+num4+num5)\n",
    "}\n",
    "\n",
    "\n",
    "multiply()\n",
    "add()\n"
   ]
  },
  {
   "cell_type": "markdown",
   "metadata": {},
   "source": [
    "TASK13"
   ]
  },
  {
   "cell_type": "code",
   "execution_count": null,
   "metadata": {},
   "outputs": [],
   "source": [
    "# Write a function, which takes 5 arguments and print their average. Call this function\n",
    "def average(num1, num2, num3, num4, num5): {\n",
    "    print((num1+num2+num3+num4+num5)/5)\n",
    "}\n",
    "\n",
    "\n",
    "average(1, 2, 3, 4, 5)\n"
   ]
  },
  {
   "cell_type": "markdown",
   "metadata": {},
   "source": [
    "TASK14"
   ]
  },
  {
   "cell_type": "code",
   "execution_count": null,
   "metadata": {},
   "outputs": [],
   "source": [
    "# Write a function, which takes 5 arguments and print the larges and smallest\n",
    "from turtle import st\n",
    "\n",
    "\n",
    "def largeset_smallest(num1, num2, num3, num4, num5):\n",
    "    smallest = 0\n",
    "    largest = 0\n",
    "    if (num1 <= num2 and num1 <= num3 and num1 <= num4 and num1 <= num5):\n",
    "        smallest = num1\n",
    "    if (num2 <= num1 and num2 <= num3 and num2 <= num4 and num2 <= num5):\n",
    "        psmallest = num2\n",
    "    if (num3 <= num1 and num3 <= num2 and num3 <= num4 and num3 <= num5):\n",
    "        smallest = num3\n",
    "    if (num4 <= num1 and num4 <= num2 and num4 <= num3 and num4 <= num5):\n",
    "        smallest = num4\n",
    "    if (num5 <= num1 and num5 <= num2 and num5 <= num3 and num5 <= num4):\n",
    "        smallest = num5\n",
    "    # Largest\n",
    "    if (num1 >= num2 and num1 >= num3 and num1 >= num4 and num1 >= num5):\n",
    "        largest = num1\n",
    "    if (num2 >= num1 and num2 >= num3 and num2 >= num4 and num2 >= num5):\n",
    "        largest = num2\n",
    "    if (num3 >= num1 and num3 >= num2 and num3 >= num4 and num3 >= num5):\n",
    "        largest = num3\n",
    "    if (num4 >= num1 and num4 >= num2 and num4 >= num3 and num4 >= num5):\n",
    "        largest = num4\n",
    "    if (num5 >= num1 and num5 >= num2 and num5 >= num3 and num5 >= num4):\n",
    "        largest = num5\n",
    "    print(str(smallest)+\" is Smallest and \"+str(largest)+\" is largest\")\n",
    "\n",
    "\n",
    "largeset_smallest(4, 3, 5, 6, 3)\n"
   ]
  },
  {
   "cell_type": "markdown",
   "metadata": {},
   "source": [
    "TASK15"
   ]
  },
  {
   "cell_type": "code",
   "execution_count": null,
   "metadata": {},
   "outputs": [],
   "source": [
    "# Write a function which take the radius of circle as first argument and a char (a or c) as second argument. If second\n",
    "# argument is a then return the area of circle. If the second argument is c then return the circumference of circle\n",
    "from cmath import pi\n",
    "\n",
    "\n",
    "def area_circum(radius, sym):\n",
    "    if(sym == 'a'):\n",
    "        return pi*radius**2\n",
    "    elif(sym == 'c'):\n",
    "        return 2*pi*radius\n",
    "\n",
    "\n",
    "print(str(area_circum(radius=2, sym='a')))\n"
   ]
  },
  {
   "cell_type": "markdown",
   "metadata": {},
   "source": [
    "TASK16"
   ]
  },
  {
   "cell_type": "code",
   "execution_count": null,
   "metadata": {},
   "outputs": [],
   "source": [
    "# Modify the two-number calculator problem and solve it using functions for add, sub etc. Return the results from\n",
    "# these functions and display them in main.\n",
    "\n",
    "def sub(num1, num2):\n",
    "    return num1-num2\n",
    "\n",
    "\n",
    "def add(num1, num2):\n",
    "    return num1-num2\n",
    "\n",
    "\n",
    "def mul(num1, num2):\n",
    "    return num1*num2\n",
    "\n",
    "\n",
    "def div(num1, num2):\n",
    "    return num1/num2\n",
    "\n",
    "\n",
    "n1 = float(input(\"Enter the first No. : \"))\n",
    "n2 = float(input(\"Enter the Second No. : \"))\n",
    "op = input(\"Enter the operator +/-* : \")\n",
    "if op == '*':\n",
    "    print(mul(n1, n2))\n",
    "elif op == '-':\n",
    "    print(sub(n1, n2))\n",
    "elif op == '/':\n",
    "    print(div(n1, n2))\n",
    "elif op == '+':\n",
    "    print(add(n1, n2))\n"
   ]
  },
  {
   "cell_type": "markdown",
   "metadata": {},
   "source": [
    "TASK17"
   ]
  },
  {
   "cell_type": "code",
   "execution_count": null,
   "metadata": {},
   "outputs": [],
   "source": [
    "# Input a number and Print numbers up to that number in reverse\n",
    "from itertools import count\n",
    "from tokenize import Number\n",
    "\n",
    "\n",
    "num = int(input(\"Enter the no. : \"))\n",
    "\n",
    "\n",
    "def pr(number, count):\n",
    "    if(count < number):\n",
    "        pr(number, count+1)\n",
    "    print(number)\n",
    "\n",
    "\n",
    "pr(num, 1)\n"
   ]
  },
  {
   "cell_type": "markdown",
   "metadata": {},
   "source": [
    "TASK18"
   ]
  },
  {
   "cell_type": "code",
   "execution_count": null,
   "metadata": {},
   "outputs": [],
   "source": [
    "# Input a number and print even numbers up to that number\n",
    "num = int(input(\"Enter the NO. : \"))\n",
    "\n",
    "\n",
    "def evenNos(number, count):\n",
    "    if (count < number):\n",
    "        evenNos(number, count+1)\n",
    "    if(count % 2 == 0):\n",
    "        print(count)\n",
    "\n",
    "\n",
    "evenNos(num, 0)\n"
   ]
  },
  {
   "cell_type": "markdown",
   "metadata": {},
   "source": [
    "TASK19"
   ]
  },
  {
   "cell_type": "code",
   "execution_count": null,
   "metadata": {},
   "outputs": [],
   "source": [
    "# Write a function with the name of fact, which calculate factorial of a value that is sent as an argument\n",
    "num = int(input(\"Enter the number : \"))\n",
    "\n",
    "\n",
    "def fact(number):\n",
    "    if(number == 1):\n",
    "        return 1\n",
    "    else:\n",
    "        factorial = number * fact(number-1)\n",
    "        return factorial\n",
    "\n",
    "\n",
    "print(fact(num))\n"
   ]
  },
  {
   "cell_type": "markdown",
   "metadata": {},
   "source": [
    "TASK20"
   ]
  },
  {
   "cell_type": "code",
   "execution_count": 8,
   "metadata": {},
   "outputs": [
    {
     "name": "stdout",
     "output_type": "stream",
     "text": [
      "[1, 1, 2, 3, 5, 8, 13, 21]\n"
     ]
    }
   ],
   "source": [
    "index = int(input(\"Enter the index : \"))\n",
    "listofValue = [1, 1]\n",
    "\n",
    "\n",
    "def fact(number, count):\n",
    "    if(count <= number-2):  # as first 2 no.s are already added\n",
    "        ser = listofValue[count] + listofValue[count+1]\n",
    "        listofValue.append(ser)\n",
    "        fact(number, count+1)\n",
    "        return ser\n",
    "\n",
    "\n",
    "fact(index, 0)\n",
    "if(index == 0):\n",
    "    print(1)\n",
    "else:\n",
    "    print(listofValue)\n"
   ]
  },
  {
   "cell_type": "markdown",
   "metadata": {},
   "source": [
    "TASK 21"
   ]
  },
  {
   "cell_type": "code",
   "execution_count": null,
   "metadata": {},
   "outputs": [],
   "source": [
    "index = int(input(\"Enter the index : \"))\n",
    "listofValue = [1, 1]\n",
    "\n",
    "\n",
    "def fact(number, count):\n",
    "    if(count <= number-2):  # as first 2 no.s are already added\n",
    "        ser = listofValue[count] + listofValue[count+1]\n",
    "        listofValue.append(ser)\n",
    "        fact(number, count+1)\n",
    "        return ser\n",
    "\n",
    "\n",
    "fact(index, 0)\n",
    "if(index == 0):\n",
    "    print(1)\n",
    "else:\n",
    "    print(listofValue)\n"
   ]
  }
 ],
 "metadata": {
  "kernelspec": {
   "display_name": "Python 3",
   "language": "python",
   "name": "python3"
  },
  "language_info": {
   "codemirror_mode": {
    "name": "ipython",
    "version": 3
   },
   "file_extension": ".py",
   "mimetype": "text/x-python",
   "name": "python",
   "nbconvert_exporter": "python",
   "pygments_lexer": "ipython3",
   "version": "3.10.2"
  }
 },
 "nbformat": 4,
 "nbformat_minor": 2
}
